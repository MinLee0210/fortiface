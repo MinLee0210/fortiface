{
 "cells": [
  {
   "cell_type": "code",
   "execution_count": 5,
   "metadata": {},
   "outputs": [],
   "source": [
    "import mediapipe as mp\n",
    "from mediapipe.tasks import python\n",
    "from mediapipe.tasks.python import vision\n",
    "import cv2\n",
    "\n",
    "import secrets\n",
    "import socket\n",
    "import string\n",
    "from datetime import datetime\n",
    "\n",
    "import urllib.request\n",
    "\n",
    "def generate_random_key(length=32) -> str:\n",
    "    characters = string.ascii_letters + string.digits\n",
    "    return \"\".join(secrets.choice(characters) for _ in range(length))\n",
    "\n",
    "\n",
    "def get_ipv4_address():\n",
    "    s = socket.socket(socket.AF_INET, socket.SOCK_DGRAM)\n",
    "    s.connect((\"8.8.8.8\", 80))\n",
    "    ipV4 = s.getsockname()[0]\n",
    "    s.close()\n",
    "    return ipV4\n",
    "\n",
    "\n",
    "def datetime_now() -> int:\n",
    "    return datetime.now().timestamp()\n",
    "\n",
    "\n",
    "def download_model_with_urllib(url, output_path):\n",
    "    try:\n",
    "        urllib.request.urlretrieve(url, output_path)\n",
    "        print(f\"Model downloaded successfully and saved to {output_path}\")\n",
    "    except Exception as e:\n",
    "        print(f\"Failed to download the model: {e}\")"
   ]
  },
  {
   "cell_type": "code",
   "execution_count": 4,
   "metadata": {},
   "outputs": [
    {
     "name": "stdout",
     "output_type": "stream",
     "text": [
      "Model downloaded successfully and saved to weights/mobilenet_v3_small.tflite\n"
     ]
    }
   ],
   "source": [
    "image_embdder_url = \"https://storage.googleapis.com/mediapipe-models/image_embedder/mobilenet_v3_small/float32/1/mobilenet_v3_small.tflite\"\n",
    "\n",
    "download_model_with_urllib(image_embdder_url, \n",
    "                           output_path=\"weights/mobilenet_v3_small.tflite\")"
   ]
  },
  {
   "cell_type": "code",
   "execution_count": null,
   "metadata": {},
   "outputs": [],
   "source": []
  },
  {
   "cell_type": "code",
   "execution_count": null,
   "metadata": {},
   "outputs": [],
   "source": []
  },
  {
   "cell_type": "code",
   "execution_count": null,
   "metadata": {},
   "outputs": [],
   "source": []
  },
  {
   "cell_type": "code",
   "execution_count": null,
   "metadata": {},
   "outputs": [],
   "source": []
  }
 ],
 "metadata": {
  "kernelspec": {
   "display_name": "oryza-ai",
   "language": "python",
   "name": "python3"
  },
  "language_info": {
   "codemirror_mode": {
    "name": "ipython",
    "version": 3
   },
   "file_extension": ".py",
   "mimetype": "text/x-python",
   "name": "python",
   "nbconvert_exporter": "python",
   "pygments_lexer": "ipython3",
   "version": "3.10.15"
  }
 },
 "nbformat": 4,
 "nbformat_minor": 2
}
